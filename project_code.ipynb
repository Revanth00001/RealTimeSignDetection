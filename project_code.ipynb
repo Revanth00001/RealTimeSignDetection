{
 "cells": [
  {
   "cell_type": "code",
   "execution_count": 1,
   "id": "f773d932",
   "metadata": {},
   "outputs": [],
   "source": [
    "import cv2\n",
    "import uuid\n",
    "import time\n",
    "import os"
   ]
  },
  {
   "cell_type": "code",
   "execution_count": null,
   "id": "7738f92d",
   "metadata": {},
   "outputs": [],
   "source": [
    "IMAGES_PATH = 'Tensorflow/workspace/images/collectedimages'"
   ]
  },
  {
   "cell_type": "code",
   "execution_count": 2,
   "id": "c6eb6493",
   "metadata": {},
   "outputs": [],
   "source": [
    "labels = ['hello','thanks','yes','no','iloveyou']\n",
    "number_imgs = 15\n"
   ]
  },
  {
   "cell_type": "code",
   "execution_count": 10,
   "id": "da412a9b",
   "metadata": {},
   "outputs": [
    {
     "name": "stderr",
     "output_type": "stream",
     "text": [
      "A subdirectory or file Tensorflow\\workspace\\images\\collectedimages\\hello already exists.\n"
     ]
    },
    {
     "name": "stdout",
     "output_type": "stream",
     "text": [
      "Collecting images for hello\n"
     ]
    },
    {
     "ename": "NameError",
     "evalue": "name 'IMAGES_PATH' is not defined",
     "output_type": "error",
     "traceback": [
      "\u001b[1;31m---------------------------------------------------------------------------\u001b[0m",
      "\u001b[1;31mNameError\u001b[0m                                 Traceback (most recent call last)",
      "\u001b[1;32m~\\AppData\\Local\\Temp\\ipykernel_14592\\3674658076.py\u001b[0m in \u001b[0;36m<module>\u001b[1;34m\u001b[0m\n\u001b[0;32m      6\u001b[0m     \u001b[1;32mfor\u001b[0m \u001b[0mimgnum\u001b[0m \u001b[1;32min\u001b[0m \u001b[0mrange\u001b[0m\u001b[1;33m(\u001b[0m\u001b[0mnumber_imgs\u001b[0m\u001b[1;33m)\u001b[0m\u001b[1;33m:\u001b[0m\u001b[1;33m\u001b[0m\u001b[1;33m\u001b[0m\u001b[0m\n\u001b[0;32m      7\u001b[0m         \u001b[0mret\u001b[0m\u001b[1;33m,\u001b[0m \u001b[0mframe\u001b[0m \u001b[1;33m=\u001b[0m \u001b[0mcap\u001b[0m\u001b[1;33m.\u001b[0m\u001b[0mread\u001b[0m\u001b[1;33m(\u001b[0m\u001b[1;33m)\u001b[0m\u001b[1;33m\u001b[0m\u001b[1;33m\u001b[0m\u001b[0m\n\u001b[1;32m----> 8\u001b[1;33m         \u001b[0mimgname\u001b[0m \u001b[1;33m=\u001b[0m \u001b[0mos\u001b[0m\u001b[1;33m.\u001b[0m\u001b[0mpath\u001b[0m\u001b[1;33m.\u001b[0m\u001b[0mjoin\u001b[0m\u001b[1;33m(\u001b[0m\u001b[0mIMAGES_PATH\u001b[0m\u001b[1;33m,\u001b[0m\u001b[0mlabel\u001b[0m\u001b[1;33m,\u001b[0m\u001b[0mlabel\u001b[0m\u001b[1;33m+\u001b[0m\u001b[1;34m'.'\u001b[0m\u001b[1;33m+\u001b[0m\u001b[1;34m'{}.jpg'\u001b[0m\u001b[1;33m.\u001b[0m\u001b[0mformat\u001b[0m\u001b[1;33m(\u001b[0m\u001b[0mstr\u001b[0m\u001b[1;33m(\u001b[0m\u001b[0muuid\u001b[0m\u001b[1;33m.\u001b[0m\u001b[0muuid1\u001b[0m\u001b[1;33m(\u001b[0m\u001b[1;33m)\u001b[0m\u001b[1;33m)\u001b[0m\u001b[1;33m)\u001b[0m\u001b[1;33m)\u001b[0m\u001b[1;33m\u001b[0m\u001b[1;33m\u001b[0m\u001b[0m\n\u001b[0m\u001b[0;32m      9\u001b[0m         \u001b[0mcv2\u001b[0m\u001b[1;33m.\u001b[0m\u001b[0mimwrite\u001b[0m\u001b[1;33m(\u001b[0m\u001b[0mimgname\u001b[0m\u001b[1;33m,\u001b[0m \u001b[0mframe\u001b[0m\u001b[1;33m)\u001b[0m\u001b[1;33m\u001b[0m\u001b[1;33m\u001b[0m\u001b[0m\n\u001b[0;32m     10\u001b[0m         \u001b[0mcv2\u001b[0m\u001b[1;33m.\u001b[0m\u001b[0mimshow\u001b[0m\u001b[1;33m(\u001b[0m\u001b[1;34m'frame'\u001b[0m\u001b[1;33m,\u001b[0m \u001b[0mframe\u001b[0m\u001b[1;33m)\u001b[0m\u001b[1;33m\u001b[0m\u001b[1;33m\u001b[0m\u001b[0m\n",
      "\u001b[1;31mNameError\u001b[0m: name 'IMAGES_PATH' is not defined"
     ]
    }
   ],
   "source": [
    "for label in labels:\n",
    "    !mkdir {'Tensorflow\\workspace\\images\\collectedimages\\\\'+label}\n",
    "    cap = cv2.VideoCapture(0)\n",
    "    print('Collecting images for {}'.format(label))\n",
    "    time.sleep(5)\n",
    "    for imgnum in range(number_imgs):\n",
    "        ret, frame = cap.read()\n",
    "        imgname = os.path.join(IMAGES_PATH,label,label+'.'+'{}.jpg'.format(str(uuid.uuid1())))\n",
    "        cv2.imwrite(imgname, frame)\n",
    "        cv2.imshow('frame', frame)\n",
    "        time.sleep(2)\n",
    "        \n",
    "        if cv2.waitKey(1) & 0xFF == ord('q'):\n",
    "            break  \n",
    "    cap.release()\n",
    "        "
   ]
  },
  {
   "cell_type": "code",
   "execution_count": 22,
   "id": "8f30a7a1",
   "metadata": {},
   "outputs": [
    {
     "name": "stdout",
     "output_type": "stream",
     "text": [
      "Defaulting to user installation because normal site-packages is not writeable\n",
      "Requirement already satisfied: pip in c:\\users\\revanth kumar\\appdata\\roaming\\python\\python311\\site-packages (22.3.1)\n"
     ]
    }
   ],
   "source": [
    "import lxml\n",
    "import PyQt5\n",
    "import os\n",
    "!pip install --upgrade pip\n"
   ]
  },
  {
   "cell_type": "code",
   "execution_count": 23,
   "id": "7b927307",
   "metadata": {},
   "outputs": [],
   "source": [
    "LABELIMG_PATH = os.path.join('Tensorflow', 'labelimg')"
   ]
  },
  {
   "cell_type": "code",
   "execution_count": 24,
   "id": "3ab72958",
   "metadata": {},
   "outputs": [],
   "source": [
    "if not os.path.exists(LABELIMG_PATH):\n",
    "    !mkdir {LABELIMG_PATH}\n",
    "    !git clone https://github.com/tzutalin/labelImg {LABELIMG_PATH}"
   ]
  },
  {
   "cell_type": "code",
   "execution_count": 31,
   "id": "44db2137",
   "metadata": {},
   "outputs": [],
   "source": [
    "if os.name == 'posix':\n",
    "    !cd {LABELIMG_PATH} && make qt5py3\n",
    "if os.name == 'nt':\n",
    "    !cd {LABELIMG_PATH} && pyrcc5 -o libs/resources.py resources.qrc"
   ]
  },
  {
   "cell_type": "code",
   "execution_count": 36,
   "id": "97fdb666",
   "metadata": {},
   "outputs": [
    {
     "name": "stderr",
     "output_type": "stream",
     "text": [
      "Traceback (most recent call last):\n",
      "  File \"D:\\RealTimeObjectDetection\\Tensorflow\\labelimg\\labelImg.py\", line 40, in <module>\n",
      "    from libs.labelFile import LabelFile, LabelFileError, LabelFileFormat\n",
      "  File \"D:\\RealTimeObjectDetection\\Tensorflow\\labelimg\\libs\\labelFile.py\", line 13, in <module>\n",
      "    from libs.pascal_voc_io import PascalVocWriter\n",
      "  File \"D:\\RealTimeObjectDetection\\Tensorflow\\labelimg\\libs\\pascal_voc_io.py\", line 6, in <module>\n",
      "    from lxml import etree\n",
      "ModuleNotFoundError: No module named 'lxml'\n"
     ]
    }
   ],
   "source": [
    "!cd {LABELIMG_PATH} && python labelImg.py"
   ]
  },
  {
   "cell_type": "code",
   "execution_count": 30,
   "id": "5481e23f",
   "metadata": {},
   "outputs": [
    {
     "data": {
      "text/plain": [
       "'Tensorflow\\\\labelimg'"
      ]
     },
     "execution_count": 30,
     "metadata": {},
     "output_type": "execute_result"
    }
   ],
   "source": [
    "LABELIMG_PATH\n"
   ]
  },
  {
   "cell_type": "code",
   "execution_count": 1,
   "id": "c96f4700",
   "metadata": {},
   "outputs": [
    {
     "name": "stdout",
     "output_type": "stream",
     "text": [
      "Defaulting to user installation because normal site-packages is not writeable\n",
      "Collecting pandas\n",
      "  Using cached pandas-1.5.1-cp311-cp311-win_amd64.whl (10.3 MB)\n",
      "Requirement already satisfied: python-dateutil>=2.8.1 in c:\\users\\revanth kumar\\appdata\\roaming\\python\\python311\\site-packages (from pandas) (2.8.2)\n",
      "Collecting pytz>=2020.1\n",
      "  Downloading pytz-2022.6-py2.py3-none-any.whl (498 kB)\n",
      "     -------------------------------------- 498.1/498.1 kB 2.2 MB/s eta 0:00:00\n",
      "Requirement already satisfied: numpy>=1.21.0 in c:\\users\\revanth kumar\\appdata\\roaming\\python\\python311\\site-packages (from pandas) (1.23.4)\n",
      "Requirement already satisfied: six>=1.5 in c:\\users\\revanth kumar\\appdata\\roaming\\python\\python311\\site-packages (from python-dateutil>=2.8.1->pandas) (1.16.0)\n",
      "Installing collected packages: pytz, pandas\n",
      "Successfully installed pandas-1.5.1 pytz-2022.6\n"
     ]
    }
   ],
   "source": [
    "!pip install pandas\n"
   ]
  },
  {
   "cell_type": "code",
   "execution_count": 2,
   "id": "894627f6",
   "metadata": {},
   "outputs": [
    {
     "name": "stdout",
     "output_type": "stream",
     "text": [
      "Defaulting to user installation because normal site-packages is not writeable\n"
     ]
    },
    {
     "name": "stderr",
     "output_type": "stream",
     "text": [
      "ERROR: Could not find a version that satisfies the requirement tensorflow (from versions: none)\n",
      "ERROR: No matching distribution found for tensorflow\n"
     ]
    }
   ],
   "source": [
    "!pip install tensorflow"
   ]
  },
  {
   "cell_type": "code",
   "execution_count": 17,
   "id": "797ac073",
   "metadata": {},
   "outputs": [
    {
     "name": "stdout",
     "output_type": "stream",
     "text": [
      "Defaulting to user installation because normal site-packages is not writeable\n"
     ]
    },
    {
     "name": "stderr",
     "output_type": "stream",
     "text": [
      "ERROR: Could not find a version that satisfies the requirement tensorflow (from versions: none)\n",
      "ERROR: No matching distribution found for tensorflow\n"
     ]
    }
   ],
   "source": [
    "!pip install tensorflow\n"
   ]
  },
  {
   "cell_type": "code",
   "execution_count": 19,
   "id": "b16427db",
   "metadata": {},
   "outputs": [
    {
     "name": "stdout",
     "output_type": "stream",
     "text": [
      "Package                 Version\n",
      "----------------------- -----------\n",
      "anyio                   3.6.2\n",
      "argon2-cffi             21.3.0\n",
      "argon2-cffi-bindings    21.2.0\n",
      "asttokens               2.1.0\n",
      "attrs                   22.1.0\n",
      "backcall                0.2.0\n",
      "beautifulsoup4          4.11.1\n",
      "bleach                  5.0.1\n",
      "certifi                 2022.9.24\n",
      "cffi                    1.15.1\n",
      "charset-normalizer      2.1.1\n",
      "click                   8.1.3\n",
      "cmake                   3.24.3\n",
      "colorama                0.4.6\n",
      "comtypes                1.1.14\n",
      "debugpy                 1.6.3\n",
      "decorator               5.1.1\n",
      "defusedxml              0.7.1\n",
      "entrypoints             0.4\n",
      "executing               1.2.0\n",
      "face-recognition-models 0.3.0\n",
      "fastjsonschema          2.16.2\n",
      "Flask                   2.2.2\n",
      "idna                    3.4\n",
      "ipykernel               6.17.1\n",
      "ipython                 8.6.0\n",
      "ipython-genutils        0.2.0\n",
      "ipywidgets              8.0.2\n",
      "itsdangerous            2.1.2\n",
      "jedi                    0.18.1\n",
      "Jinja2                  3.1.2\n",
      "joblib                  1.2.0\n",
      "jsonschema              4.17.0\n",
      "jupyter                 1.0.0\n",
      "jupyter_client          7.4.5\n",
      "jupyter-console         6.4.4\n",
      "jupyter_core            5.0.0\n",
      "jupyter-server          1.23.1\n",
      "jupyterlab-pygments     0.2.2\n",
      "jupyterlab-widgets      3.0.3\n",
      "MarkupSafe              2.1.1\n",
      "matplotlib-inline       0.1.6\n",
      "mistune                 2.0.4\n",
      "MouseInfo               0.1.3\n",
      "nbclassic               0.4.8\n",
      "nbclient                0.7.0\n",
      "nbconvert               7.2.4\n",
      "nbformat                5.7.0\n",
      "nest-asyncio            1.5.6\n",
      "notebook                6.5.2\n",
      "notebook_shim           0.2.2\n",
      "numpy                   1.23.4\n",
      "opencv-python           4.5.5.62\n",
      "packaging               21.3\n",
      "pandas                  1.5.1\n",
      "pandocfilters           1.5.0\n",
      "parso                   0.8.3\n",
      "pickleshare             0.7.5\n",
      "Pillow                  9.3.0\n",
      "pip                     22.3.1\n",
      "platformdirs            2.5.3\n",
      "prometheus-client       0.15.0\n",
      "prompt-toolkit          3.0.32\n",
      "psutil                  5.9.4\n",
      "pure-eval               0.2.2\n",
      "PyAudio                 0.2.12\n",
      "PyAutoGUI               0.9.53\n",
      "pycparser               2.21\n",
      "PyGetWindow             0.0.9\n",
      "Pygments                2.13.0\n",
      "pyjokes                 0.6.0\n",
      "PyMsgBox                1.0.9\n",
      "pyparsing               3.0.9\n",
      "pyperclip               1.8.2\n",
      "pypiwin32               223\n",
      "PyQt5                   5.15.7\n",
      "PyQt5-Qt5               5.15.2\n",
      "PyQt5-sip               12.11.0\n",
      "PyRect                  0.2.0\n",
      "pyrsistent              0.19.2\n",
      "PyScreeze               0.1.28\n",
      "python-dateutil         2.8.2\n",
      "pyttsx3                 2.90\n",
      "pytweening              1.0.4\n",
      "pytz                    2022.6\n",
      "pywhatkit               5.4\n",
      "pywin32                 305\n",
      "pywinpty                2.0.9\n",
      "pyzmq                   24.0.1\n",
      "qtconsole               5.4.0\n",
      "QtPy                    2.3.0\n",
      "requests                2.28.1\n",
      "scikit-learn            1.1.3\n",
      "scipy                   1.9.3\n",
      "Send2Trash              1.8.0\n",
      "setuptools              65.5.1\n",
      "six                     1.16.0\n",
      "sniffio                 1.3.0\n",
      "soupsieve               2.3.2.post1\n",
      "SpeechRecognition       3.8.1\n",
      "stack-data              0.6.0\n",
      "terminado               0.17.0\n",
      "threadpoolctl           3.1.0\n",
      "tinycss2                1.2.1\n",
      "tornado                 6.2\n",
      "traitlets               5.5.0\n",
      "urllib3                 1.26.12\n",
      "wcwidth                 0.2.5\n",
      "webencodings            0.5.1\n",
      "websocket-client        1.4.2\n",
      "Werkzeug                2.2.2\n",
      "wheel                   0.38.4\n",
      "widgetsnbextension      4.0.3\n",
      "wikipedia               1.4.0\n"
     ]
    }
   ],
   "source": [
    "!pip list\n"
   ]
  },
  {
   "cell_type": "code",
   "execution_count": 16,
   "id": "24151621",
   "metadata": {
    "scrolled": false
   },
   "outputs": [
    {
     "name": "stdout",
     "output_type": "stream",
     "text": [
      "Defaulting to user installation because normal site-packages is not writeable\n",
      "Requirement already satisfied: pip in c:\\users\\revanth kumar\\appdata\\roaming\\python\\python311\\site-packages (22.3.1)\n"
     ]
    }
   ],
   "source": [
    "!pip install --upgrade pip\n"
   ]
  },
  {
   "cell_type": "code",
   "execution_count": null,
   "id": "2457be1a",
   "metadata": {},
   "outputs": [],
   "source": []
  }
 ],
 "metadata": {
  "kernelspec": {
   "display_name": "Python 3 (ipykernel)",
   "language": "python",
   "name": "python3"
  },
  "language_info": {
   "codemirror_mode": {
    "name": "ipython",
    "version": 3
   },
   "file_extension": ".py",
   "mimetype": "text/x-python",
   "name": "python",
   "nbconvert_exporter": "python",
   "pygments_lexer": "ipython3",
   "version": "3.8.13"
  }
 },
 "nbformat": 4,
 "nbformat_minor": 5
}
